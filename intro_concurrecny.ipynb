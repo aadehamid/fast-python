{
 "cells": [
  {
   "cell_type": "code",
   "execution_count": 18,
   "metadata": {},
   "outputs": [],
   "source": [
    "import time\n",
    "import threading\n",
    "from concurrent.futures import Future\n"
   ]
  },
  {
   "cell_type": "code",
   "execution_count": 2,
   "metadata": {},
   "outputs": [
    {
     "name": "stdout",
     "output_type": "stream",
     "text": [
      "Result is: 4\n",
      "Result is: 9\n",
      "Result is: 16\n",
      "It takes 3.0033128720001514s to finish the calls.\n"
     ]
    }
   ],
   "source": [
    "def network_request(number):\n",
    "    time.sleep(1.0)\n",
    "    return {\"success\": True, \"result\": number ** 2}\n",
    "\n",
    "\n",
    "def fetch_square(number):\n",
    "    response = network_request(number)\n",
    "    if response[\"success\"]:\n",
    "        print(\"Result is: {}\".format(response[\"result\"]))\n",
    "\n",
    "\n",
    "if __name__ == \"__main__\":\n",
    "\n",
    "    start = time.perf_counter()\n",
    "    fetch_square(2)\n",
    "    fetch_square(3)\n",
    "    fetch_square(4)\n",
    "    end = time.perf_counter()\n",
    "    print(f\"It takes {end - start}s to finish the calls.\")\n"
   ]
  },
  {
   "cell_type": "code",
   "execution_count": 4,
   "metadata": {},
   "outputs": [
    {
     "name": "stdout",
     "output_type": "stream",
     "text": [
      "Hello 1\n",
      "Hello 2\n",
      "Hello 3\n"
     ]
    }
   ],
   "source": [
    "def wait_print(msg): # A blocking function\n",
    "    time.sleep(1.0)\n",
    "    print(msg)\n",
    "\n",
    "\n",
    "wait_print(\"Hello 1\")\n",
    "wait_print(\"Hello 2\")\n",
    "wait_print(\"Hello 3\")\n"
   ]
  },
  {
   "cell_type": "code",
   "execution_count": 8,
   "metadata": {},
   "outputs": [
    {
     "name": "stdout",
     "output_type": "stream",
     "text": [
      "After submission\n"
     ]
    },
    {
     "name": "stdout",
     "output_type": "stream",
     "text": [
      "Hello 1\n",
      "Hello 2\n",
      "Hello 3\n"
     ]
    }
   ],
   "source": [
    "def wait_and_print_async(msg):\n",
    "    def callback():\n",
    "        print(msg)\n",
    "    timer = threading.Timer(1.0, callback)\n",
    "    timer.start()\n",
    "\n",
    "wait_and_print_async(\"Hello 1\")\n",
    "wait_and_print_async(\"Hello 2\")\n",
    "wait_and_print_async(\"Hello 3\")\n",
    "print(\"After submission\")\n"
   ]
  },
  {
   "cell_type": "code",
   "execution_count": 9,
   "metadata": {},
   "outputs": [
    {
     "name": "stdout",
     "output_type": "stream",
     "text": [
      "cube: 8\n",
      "cube: 512\n",
      "cube: 1000\n"
     ]
    }
   ],
   "source": [
    "def cube(x):\n",
    "    def cube_me():\n",
    "        print(f\"cube: {x**3}\")\n",
    "    timer = threading.Timer(1.0, cube_me)\n",
    "    timer.start()\n",
    "\n",
    "cube(2)\n",
    "cube(8)\n",
    "cube(10)\n"
   ]
  },
  {
   "cell_type": "code",
   "execution_count": 16,
   "metadata": {},
   "outputs": [],
   "source": [
    "def network_request_async(number, on_done):\n",
    "    def timer_done():\n",
    "        on_done({\"success\": True, \"result\": number ** 2})\n",
    "    timer = threading.Timer(1.0, timer_done)\n",
    "    timer.start()\n",
    "    print(\"I am in a network\")\n",
    "\n",
    "def fecth_square(number):\n",
    "    def on_done(response):\n",
    "        if response[\"success\"]:\n",
    "            print(f\"Result is {response['result']}\")\n",
    "    network_request_async(number, on_done)\n",
    "\n",
    "def on_done(result):\n",
    "    print(result)\n"
   ]
  },
  {
   "cell_type": "code",
   "execution_count": 17,
   "metadata": {},
   "outputs": [
    {
     "name": "stdout",
     "output_type": "stream",
     "text": [
      "I am in a network\n",
      "I am in a network\n",
      "I am in a network\n",
      "After submission\n"
     ]
    },
    {
     "name": "stdout",
     "output_type": "stream",
     "text": [
      "{'success': True, 'result': 4}\n",
      "{'success': True, 'result': 9}\n",
      "{'success': True, 'result': 16}\n"
     ]
    }
   ],
   "source": [
    "network_request_async(2, on_done)\n",
    "\n",
    "network_request_async(3, on_done)\n",
    "\n",
    "network_request_async(4, on_done)\n",
    "\n",
    "print(\"After submission\")\n"
   ]
  },
  {
   "cell_type": "code",
   "execution_count": 15,
   "metadata": {},
   "outputs": [
    {
     "name": "stdout",
     "output_type": "stream",
     "text": [
      "submitted\n"
     ]
    },
    {
     "name": "stdout",
     "output_type": "stream",
     "text": [
      "Result is 9\n",
      "Result is 25\n",
      "Result is 64\n",
      "Result is 225\n"
     ]
    }
   ],
   "source": [
    "fecth_square(3)\n",
    "fecth_square(5)\n",
    "fecth_square(8)\n",
    "fecth_square(15)\n",
    "print(\"submitted\")\n"
   ]
  },
  {
   "cell_type": "markdown",
   "metadata": {},
   "source": [
    "Future"
   ]
  },
  {
   "cell_type": "code",
   "execution_count": 19,
   "metadata": {},
   "outputs": [
    {
     "data": {
      "text/plain": [
       "<Future at 0x7f0a1b359690 state=pending>"
      ]
     },
     "execution_count": 19,
     "metadata": {},
     "output_type": "execute_result"
    }
   ],
   "source": [
    "fut = Future()\n",
    "fut\n"
   ]
  },
  {
   "cell_type": "code",
   "execution_count": 20,
   "metadata": {},
   "outputs": [
    {
     "data": {
      "text/plain": [
       "<Future at 0x7f0a1b359690 state=finished returned str>"
      ]
     },
     "execution_count": 20,
     "metadata": {},
     "output_type": "execute_result"
    }
   ],
   "source": [
    "fut.set_result(\"Hullo\")\n",
    "fut\n"
   ]
  },
  {
   "cell_type": "code",
   "execution_count": 21,
   "metadata": {},
   "outputs": [
    {
     "data": {
      "text/plain": [
       "'Hullo'"
      ]
     },
     "execution_count": 21,
     "metadata": {},
     "output_type": "execute_result"
    }
   ],
   "source": [
    "fut.result()\n"
   ]
  },
  {
   "cell_type": "code",
   "execution_count": 22,
   "metadata": {},
   "outputs": [
    {
     "name": "stdout",
     "output_type": "stream",
     "text": [
      "Hello!\n"
     ]
    }
   ],
   "source": [
    "# adding a callback to a Future instance\n",
    "fut = Future()\n",
    "fut.add_done_callback(lambda future: print(future.result(), flush=True))\n",
    "fut.set_result(\"Hello!\")\n"
   ]
  },
  {
   "cell_type": "code",
   "execution_count": 31,
   "metadata": {},
   "outputs": [],
   "source": [
    "def network_request_async(number):\n",
    "    future = Future()\n",
    "    result = {\"success\": True, \"result\": number ** 2}\n",
    "    timer = threading.Timer(1.0, lambda: future.set_result(result))\n",
    "    timer.start()\n",
    "\n",
    "    return future\n",
    "\n",
    "\n",
    "def fetch_square(number):\n",
    "    fut = network_request_async(number)\n",
    "\n",
    "    def on_done_future(fut):\n",
    "        response = fut.result()\n",
    "        if response[\"success\"]:\n",
    "            print(\"Result is: {}\".format(response[\"result\"]))\n",
    "\n",
    "    fut.add_done_callback(on_done_future)\n",
    "\n",
    "\n",
    "if __name__ == \"__main__\":\n",
    "    ### First try\n",
    "    fut = network_request_async(2)\n",
    "\n",
    "    ### Second try\n",
    "    # fetch_square(2)\n"
   ]
  },
  {
   "cell_type": "code",
   "execution_count": 33,
   "metadata": {},
   "outputs": [
    {
     "data": {
      "text/plain": [
       "{'success': True, 'result': 4}"
      ]
     },
     "execution_count": 33,
     "metadata": {},
     "output_type": "execute_result"
    }
   ],
   "source": [
    "fut.result()\n"
   ]
  },
  {
   "cell_type": "code",
   "execution_count": null,
   "metadata": {},
   "outputs": [],
   "source": []
  }
 ],
 "metadata": {
  "kernelspec": {
   "display_name": "Python 3",
   "language": "python",
   "name": "python3"
  },
  "language_info": {
   "codemirror_mode": {
    "name": "ipython",
    "version": 3
   },
   "file_extension": ".py",
   "mimetype": "text/x-python",
   "name": "python",
   "nbconvert_exporter": "python",
   "pygments_lexer": "ipython3",
   "version": "3.10.10"
  }
 },
 "nbformat": 4,
 "nbformat_minor": 2
}
